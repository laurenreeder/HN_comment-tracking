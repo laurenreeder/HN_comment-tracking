{
 "metadata": {
  "name": ""
 },
 "nbformat": 3,
 "nbformat_minor": 0,
 "worksheets": [
  {
   "cells": [
    {
     "cell_type": "code",
     "collapsed": false,
     "input": [
      "import psycopg2\n",
      "import matplotlib.pyplot as plt\n",
      "import pandas as pd\n",
      "import numpy as np\n",
      "import sys\n",
      "\n",
      "\n",
      "# matplotlib.style.use('ggplot')\n",
      "\n",
      "try:\n",
      "    conn = psycopg2.connect(\"dbname='hacker_news' user='postgres' host='localhost' password='1234'\")\n",
      "except:\n",
      "    print \"Unable to connect to the database.\"\n",
      "\n",
      "cur = conn.cursor()\n",
      "\n",
      "# input_var = raw_input(\"Enter single search term or phrase: \")\n",
      "# input_var = \"'%\"+input_var+\"%'\"   # format SQL string\n",
      "\n",
      "try:\n",
      "  # cur.execute(\"\"\"SELECT DISTINCT ON(created_at) created_at, author FROM hn_comments WHERE comment_text LIKE %s ORDER BY created_at ASC\"\"\" % input_var)\n",
      "  # hardcoded for testing\n",
      "  cur.execute(\"\"\"SELECT DISTINCT ON(created_at) created_at, author FROM hn_comments WHERE comment_text LIKE '%segment.io%' ORDER BY created_at ASC\"\"\")\n",
      "except:\n",
      "  print \"Could not run select command\"\n",
      "\n",
      "rows = cur.fetchall()\n",
      "dates = tuple(x[0] for x in rows)\n",
      "visits = [1] * len(dates)\n",
      "cumv = np.cumsum(visits)\n",
      "\n",
      "# messing with ticks\n",
      "# x = range(len(dates))\n",
      "# plt.xticks(x, dates)\n",
      "# locs, labels = plt.xticks()\n",
      "# plt.setp(labels, rotation=90)\n",
      "\n",
      "plt.plot_date(x=dates, y=cumv, fmt=\"r-\")\n",
      "\n",
      "\n",
      "plt.show()\n",
      "\n",
      "\n",
      "cur.close()\n",
      "conn.close()"
     ],
     "language": "python",
     "metadata": {},
     "outputs": []
    }
   ],
   "metadata": {}
  }
 ]
}